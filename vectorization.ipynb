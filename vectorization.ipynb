{
 "cells": [
  {
   "cell_type": "code",
   "execution_count": 13,
   "metadata": {},
   "outputs": [
    {
     "name": "stdout",
     "output_type": "stream",
     "text": [
      "Python 3.7.9\n"
     ]
    }
   ],
   "source": [
    "!python --version"
   ]
  },
  {
   "cell_type": "code",
   "execution_count": 3,
   "metadata": {},
   "outputs": [],
   "source": [
    "import pandas as pd\n",
    "import numpy as np"
   ]
  },
  {
   "cell_type": "code",
   "execution_count": 5,
   "metadata": {},
   "outputs": [
    {
     "data": {
      "text/html": [
       "<div>\n",
       "<style scoped>\n",
       "    .dataframe tbody tr th:only-of-type {\n",
       "        vertical-align: middle;\n",
       "    }\n",
       "\n",
       "    .dataframe tbody tr th {\n",
       "        vertical-align: top;\n",
       "    }\n",
       "\n",
       "    .dataframe thead th {\n",
       "        text-align: right;\n",
       "    }\n",
       "</style>\n",
       "<table border=\"1\" class=\"dataframe\">\n",
       "  <thead>\n",
       "    <tr style=\"text-align: right;\">\n",
       "      <th></th>\n",
       "      <th>0</th>\n",
       "    </tr>\n",
       "  </thead>\n",
       "  <tbody>\n",
       "    <tr>\n",
       "      <th>0</th>\n",
       "      <td>정수형 너무 잘생기셨음 ㅠㅠ</td>\n",
       "    </tr>\n",
       "    <tr>\n",
       "      <th>1</th>\n",
       "      <td>우리 이스타 아주 무대체질이야</td>\n",
       "    </tr>\n",
       "    <tr>\n",
       "      <th>2</th>\n",
       "      <td>남자가봐도 이상이 매력 넘치네&lt;br&gt;한다다의 최대 수혜자</td>\n",
       "    </tr>\n",
       "    <tr>\n",
       "      <th>3</th>\n",
       "      <td>The definition of perfect combination🔥🔥🔥</td>\n",
       "    </tr>\n",
       "    <tr>\n",
       "      <th>4</th>\n",
       "      <td>쌈디는 사운드 엄청 신경쓴 게 보인다. 음악 잘하는 게 티가 나네</td>\n",
       "    </tr>\n",
       "    <tr>\n",
       "      <th>...</th>\n",
       "      <td>...</td>\n",
       "    </tr>\n",
       "    <tr>\n",
       "      <th>108328</th>\n",
       "      <td>요즘 스타 하시던데</td>\n",
       "    </tr>\n",
       "    <tr>\n",
       "      <th>108329</th>\n",
       "      <td>@음이름뭐쓰지 아 그렇겠군요</td>\n",
       "    </tr>\n",
       "    <tr>\n",
       "      <th>108330</th>\n",
       "      <td>드디어 영상이다 ㅠㅠㅠㅠㅠㅠㅠ</td>\n",
       "    </tr>\n",
       "    <tr>\n",
       "      <th>108331</th>\n",
       "      <td>ㅠ</td>\n",
       "    </tr>\n",
       "    <tr>\n",
       "      <th>108332</th>\n",
       "      <td>나도 드디어 ㅠㅠ</td>\n",
       "    </tr>\n",
       "  </tbody>\n",
       "</table>\n",
       "<p>108333 rows × 1 columns</p>\n",
       "</div>"
      ],
      "text/plain": [
       "                                               0\n",
       "0                                정수형 너무 잘생기셨음 ㅠㅠ\n",
       "1                               우리 이스타 아주 무대체질이야\n",
       "2                남자가봐도 이상이 매력 넘치네<br>한다다의 최대 수혜자\n",
       "3       The definition of perfect combination🔥🔥🔥\n",
       "4           쌈디는 사운드 엄청 신경쓴 게 보인다. 음악 잘하는 게 티가 나네\n",
       "...                                          ...\n",
       "108328                                요즘 스타 하시던데\n",
       "108329                           @음이름뭐쓰지 아 그렇겠군요\n",
       "108330                          드디어 영상이다 ㅠㅠㅠㅠㅠㅠㅠ\n",
       "108331                                         ㅠ\n",
       "108332                                 나도 드디어 ㅠㅠ\n",
       "\n",
       "[108333 rows x 1 columns]"
      ]
     },
     "execution_count": 5,
     "metadata": {},
     "output_type": "execute_result"
    }
   ],
   "source": [
    "results = pd.read_csv('C:\\\\Users\\\\JiEun\\\\Desktop\\\\coco\\\\인기동영상_댓글.csv')\n",
    "results = results.drop('Unnamed: 0', axis=1)\n",
    "\n",
    "results # 최근 날짜순"
   ]
  },
  {
   "cell_type": "code",
   "execution_count": 12,
   "metadata": {},
   "outputs": [
    {
     "name": "stdout",
     "output_type": "stream",
     "text": [
      "Collecting py-hanspell"
     ]
    },
    {
     "name": "stderr",
     "output_type": "stream",
     "text": [
      "    ERROR: Command errored out with exit status 1:\n",
      "     command: 'c:\\users\\jieun\\appdata\\local\\programs\\python\\python37\\python.exe' -c 'import sys, setuptools, tokenize; sys.argv[0] = '\"'\"'C:\\\\Users\\\\Public\\\\Documents\\\\ESTsoft\\\\CreatorTemp\\\\pip-install-xiszwd7g\\\\py-hanspell\\\\setup.py'\"'\"'; __file__='\"'\"'C:\\\\Users\\\\Public\\\\Documents\\\\ESTsoft\\\\CreatorTemp\\\\pip-install-xiszwd7g\\\\py-hanspell\\\\setup.py'\"'\"';f=getattr(tokenize, '\"'\"'open'\"'\"', open)(__file__);code=f.read().replace('\"'\"'\\r\\n'\"'\"', '\"'\"'\\n'\"'\"');f.close();exec(compile(code, __file__, '\"'\"'exec'\"'\"'))' egg_info --egg-base 'C:\\Users\\Public\\Documents\\ESTsoft\\CreatorTemp\\pip-pip-egg-info-ilearrdj'\n",
      "         cwd: C:\\Users\\Public\\Documents\\ESTsoft\\CreatorTemp\\pip-install-xiszwd7g\\py-hanspell\\\n",
      "    Complete output (5 lines):\n",
      "    Traceback (most recent call last):\n",
      "      File \"<string>\", line 1, in <module>\n",
      "      File \"C:\\Users\\Public\\Documents\\ESTsoft\\CreatorTemp\\pip-install-xiszwd7g\\py-hanspell\\setup.py\", line 2, in <module>\n",
      "        from pip.req import parse_requirements\n",
      "    ModuleNotFoundError: No module named 'pip.req'\n",
      "    ----------------------------------------\n",
      "ERROR: Command errored out with exit status 1: python setup.py egg_info Check the logs for full command output.\n",
      "WARNING: You are using pip version 20.1.1; however, version 21.1.3 is available.\n",
      "You should consider upgrading via the 'c:\\users\\jieun\\appdata\\local\\programs\\python\\python37\\python.exe -m pip install --upgrade pip' command.\n"
     ]
    },
    {
     "name": "stdout",
     "output_type": "stream",
     "text": [
      "\n",
      "  Using cached py-hanspell-1.1.tar.gz (3.0 kB)\n",
      "Collecting git+https://github.com/haven-jeon/PyKoSpacing.git\n",
      "  Cloning https://github.com/haven-jeon/PyKoSpacing.git to c:\\users\\public\\documents\\estsoft\\creatortemp\\pip-req-build-kbqosmad\n",
      "Requirement already satisfied (use --upgrade to upgrade): pykospacing==0.5 from git+https://github.com/haven-jeon/PyKoSpacing.git in c:\\users\\jieun\\appdata\\local\\programs\\python\\python37\\lib\\site-packages\n",
      "Requirement already satisfied: tensorflow==2.5.0 in c:\\users\\jieun\\appdata\\local\\programs\\python\\python37\\lib\\site-packages (from pykospacing==0.5) (2.5.0)\n",
      "Requirement already satisfied: h5py==3.1.0 in c:\\users\\jieun\\appdata\\local\\programs\\python\\python37\\lib\\site-packages (from pykospacing==0.5) (3.1.0)"
     ]
    },
    {
     "name": "stderr",
     "output_type": "stream",
     "text": [
      "  Running command git clone -q https://github.com/haven-jeon/PyKoSpacing.git 'C:\\Users\\Public\\Documents\\ESTsoft\\CreatorTemp\\pip-req-build-kbqosmad'\n",
      "WARNING: You are using pip version 20.1.1; however, version 21.1.3 is available.\n",
      "You should consider upgrading via the 'c:\\users\\jieun\\appdata\\local\\programs\\python\\python37\\python.exe -m pip install --upgrade pip' command.\n"
     ]
    },
    {
     "name": "stdout",
     "output_type": "stream",
     "text": [
      "\n",
      "Requirement already satisfied: argparse>=1.4.0 in c:\\users\\jieun\\appdata\\local\\programs\\python\\python37\\lib\\site-packages (from pykospacing==0.5) (1.4.0)\n",
      "Requirement already satisfied: wheel~=0.35 in c:\\users\\jieun\\appdata\\local\\programs\\python\\python37\\lib\\site-packages (from tensorflow==2.5.0->pykospacing==0.5) (0.36.2)\n",
      "Requirement already satisfied: google-pasta~=0.2 in c:\\users\\jieun\\appdata\\local\\programs\\python\\python37\\lib\\site-packages (from tensorflow==2.5.0->pykospacing==0.5) (0.2.0)\n",
      "Requirement already satisfied: opt-einsum~=3.3.0 in c:\\users\\jieun\\appdata\\local\\programs\\python\\python37\\lib\\site-packages (from tensorflow==2.5.0->pykospacing==0.5) (3.3.0)\n",
      "Requirement already satisfied: astunparse~=1.6.3 in c:\\users\\jieun\\appdata\\local\\programs\\python\\python37\\lib\\site-packages (from tensorflow==2.5.0->pykospacing==0.5) (1.6.3)\n",
      "Requirement already satisfied: flatbuffers~=1.12.0 in c:\\users\\jieun\\appdata\\local\\programs\\python\\python37\\lib\\site-packages (from tensorflow==2.5.0->pykospacing==0.5) (1.12)\n",
      "Requirement already satisfied: tensorflow-estimator<2.6.0,>=2.5.0rc0 in c:\\users\\jieun\\appdata\\local\\programs\\python\\python37\\lib\\site-packages (from tensorflow==2.5.0->pykospacing==0.5) (2.5.0)\n",
      "Requirement already satisfied: tensorboard~=2.5 in c:\\users\\jieun\\appdata\\local\\programs\\python\\python37\\lib\\site-packages (from tensorflow==2.5.0->pykospacing==0.5) (2.5.0)\n",
      "Requirement already satisfied: termcolor~=1.1.0 in c:\\users\\jieun\\appdata\\local\\programs\\python\\python37\\lib\\site-packages (from tensorflow==2.5.0->pykospacing==0.5) (1.1.0)\n",
      "Requirement already satisfied: wrapt~=1.12.1 in c:\\users\\jieun\\appdata\\local\\programs\\python\\python37\\lib\\site-packages (from tensorflow==2.5.0->pykospacing==0.5) (1.12.1)\n",
      "Requirement already satisfied: keras-preprocessing~=1.1.2 in c:\\users\\jieun\\appdata\\local\\programs\\python\\python37\\lib\\site-packages (from tensorflow==2.5.0->pykospacing==0.5) (1.1.2)\n",
      "Requirement already satisfied: grpcio~=1.34.0 in c:\\users\\jieun\\appdata\\local\\programs\\python\\python37\\lib\\site-packages (from tensorflow==2.5.0->pykospacing==0.5) (1.34.1)\n",
      "Requirement already satisfied: six~=1.15.0 in c:\\users\\jieun\\appdata\\local\\programs\\python\\python37\\lib\\site-packages (from tensorflow==2.5.0->pykospacing==0.5) (1.15.0)\n",
      "Requirement already satisfied: keras-nightly~=2.5.0.dev in c:\\users\\jieun\\appdata\\local\\programs\\python\\python37\\lib\\site-packages (from tensorflow==2.5.0->pykospacing==0.5) (2.5.0.dev2021032900)\n",
      "Requirement already satisfied: protobuf>=3.9.2 in c:\\users\\jieun\\appdata\\local\\programs\\python\\python37\\lib\\site-packages (from tensorflow==2.5.0->pykospacing==0.5) (3.17.3)\n",
      "Requirement already satisfied: typing-extensions~=3.7.4 in c:\\users\\jieun\\appdata\\local\\programs\\python\\python37\\lib\\site-packages (from tensorflow==2.5.0->pykospacing==0.5) (3.7.4.3)\n",
      "Requirement already satisfied: absl-py~=0.10 in c:\\users\\jieun\\appdata\\local\\programs\\python\\python37\\lib\\site-packages (from tensorflow==2.5.0->pykospacing==0.5) (0.13.0)\n",
      "Requirement already satisfied: numpy~=1.19.2 in c:\\users\\jieun\\appdata\\local\\programs\\python\\python37\\lib\\site-packages (from tensorflow==2.5.0->pykospacing==0.5) (1.19.4)\n",
      "Requirement already satisfied: gast==0.4.0 in c:\\users\\jieun\\appdata\\local\\programs\\python\\python37\\lib\\site-packages (from tensorflow==2.5.0->pykospacing==0.5) (0.4.0)\n",
      "Requirement already satisfied: cached-property; python_version < \"3.8\" in c:\\users\\jieun\\appdata\\local\\programs\\python\\python37\\lib\\site-packages (from h5py==3.1.0->pykospacing==0.5) (1.5.2)\n",
      "Requirement already satisfied: tensorboard-plugin-wit>=1.6.0 in c:\\users\\jieun\\appdata\\local\\programs\\python\\python37\\lib\\site-packages (from tensorboard~=2.5->tensorflow==2.5.0->pykospacing==0.5) (1.8.0)\n",
      "Requirement already satisfied: google-auth-oauthlib<0.5,>=0.4.1 in c:\\users\\jieun\\appdata\\local\\programs\\python\\python37\\lib\\site-packages (from tensorboard~=2.5->tensorflow==2.5.0->pykospacing==0.5) (0.4.4)\n",
      "Requirement already satisfied: markdown>=2.6.8 in c:\\users\\jieun\\appdata\\local\\programs\\python\\python37\\lib\\site-packages (from tensorboard~=2.5->tensorflow==2.5.0->pykospacing==0.5) (3.3.4)\n",
      "Requirement already satisfied: requests<3,>=2.21.0 in c:\\users\\jieun\\appdata\\local\\programs\\python\\python37\\lib\\site-packages (from tensorboard~=2.5->tensorflow==2.5.0->pykospacing==0.5) (2.25.0)\n",
      "Requirement already satisfied: tensorboard-data-server<0.7.0,>=0.6.0 in c:\\users\\jieun\\appdata\\local\\programs\\python\\python37\\lib\\site-packages (from tensorboard~=2.5->tensorflow==2.5.0->pykospacing==0.5) (0.6.1)\n",
      "Requirement already satisfied: werkzeug>=0.11.15 in c:\\users\\jieun\\appdata\\local\\programs\\python\\python37\\lib\\site-packages (from tensorboard~=2.5->tensorflow==2.5.0->pykospacing==0.5) (2.0.1)\n",
      "Requirement already satisfied: setuptools>=41.0.0 in c:\\users\\jieun\\appdata\\local\\programs\\python\\python37\\lib\\site-packages (from tensorboard~=2.5->tensorflow==2.5.0->pykospacing==0.5) (47.1.0)\n",
      "Requirement already satisfied: google-auth<2,>=1.6.3 in c:\\users\\jieun\\appdata\\local\\programs\\python\\python37\\lib\\site-packages (from tensorboard~=2.5->tensorflow==2.5.0->pykospacing==0.5) (1.32.1)\n",
      "Requirement already satisfied: requests-oauthlib>=0.7.0 in c:\\users\\jieun\\appdata\\local\\programs\\python\\python37\\lib\\site-packages (from google-auth-oauthlib<0.5,>=0.4.1->tensorboard~=2.5->tensorflow==2.5.0->pykospacing==0.5) (1.3.0)\n",
      "Requirement already satisfied: importlib-metadata; python_version < \"3.8\" in c:\\users\\jieun\\appdata\\local\\programs\\python\\python37\\lib\\site-packages (from markdown>=2.6.8->tensorboard~=2.5->tensorflow==2.5.0->pykospacing==0.5) (2.0.0)\n",
      "Requirement already satisfied: chardet<4,>=3.0.2 in c:\\users\\jieun\\appdata\\local\\programs\\python\\python37\\lib\\site-packages (from requests<3,>=2.21.0->tensorboard~=2.5->tensorflow==2.5.0->pykospacing==0.5) (3.0.4)\n",
      "Requirement already satisfied: certifi>=2017.4.17 in c:\\users\\jieun\\appdata\\local\\programs\\python\\python37\\lib\\site-packages (from requests<3,>=2.21.0->tensorboard~=2.5->tensorflow==2.5.0->pykospacing==0.5) (2020.11.8)\n",
      "Requirement already satisfied: idna<3,>=2.5 in c:\\users\\jieun\\appdata\\local\\programs\\python\\python37\\lib\\site-packages (from requests<3,>=2.21.0->tensorboard~=2.5->tensorflow==2.5.0->pykospacing==0.5) (2.10)\n",
      "Requirement already satisfied: urllib3<1.27,>=1.21.1 in c:\\users\\jieun\\appdata\\local\\programs\\python\\python37\\lib\\site-packages (from requests<3,>=2.21.0->tensorboard~=2.5->tensorflow==2.5.0->pykospacing==0.5) (1.26.2)\n",
      "Requirement already satisfied: rsa<5,>=3.1.4; python_version >= \"3.6\" in c:\\users\\jieun\\appdata\\local\\programs\\python\\python37\\lib\\site-packages (from google-auth<2,>=1.6.3->tensorboard~=2.5->tensorflow==2.5.0->pykospacing==0.5) (4.7.2)\n",
      "Requirement already satisfied: cachetools<5.0,>=2.0.0 in c:\\users\\jieun\\appdata\\local\\programs\\python\\python37\\lib\\site-packages (from google-auth<2,>=1.6.3->tensorboard~=2.5->tensorflow==2.5.0->pykospacing==0.5) (4.2.2)\n",
      "Requirement already satisfied: pyasn1-modules>=0.2.1 in c:\\users\\jieun\\appdata\\local\\programs\\python\\python37\\lib\\site-packages (from google-auth<2,>=1.6.3->tensorboard~=2.5->tensorflow==2.5.0->pykospacing==0.5) (0.2.8)\n",
      "Requirement already satisfied: oauthlib>=3.0.0 in c:\\users\\jieun\\appdata\\local\\programs\\python\\python37\\lib\\site-packages (from requests-oauthlib>=0.7.0->google-auth-oauthlib<0.5,>=0.4.1->tensorboard~=2.5->tensorflow==2.5.0->pykospacing==0.5) (3.1.0)\n",
      "Requirement already satisfied: zipp>=0.5 in c:\\users\\jieun\\appdata\\local\\programs\\python\\python37\\lib\\site-packages (from importlib-metadata; python_version < \"3.8\"->markdown>=2.6.8->tensorboard~=2.5->tensorflow==2.5.0->pykospacing==0.5) (3.4.0)\n",
      "Requirement already satisfied: pyasn1>=0.1.3 in c:\\users\\jieun\\appdata\\local\\programs\\python\\python37\\lib\\site-packages (from rsa<5,>=3.1.4; python_version >= \"3.6\"->google-auth<2,>=1.6.3->tensorboard~=2.5->tensorflow==2.5.0->pykospacing==0.5) (0.4.8)\n",
      "Building wheels for collected packages: pykospacing\n",
      "  Building wheel for pykospacing (setup.py): started\n",
      "  Building wheel for pykospacing (setup.py): finished with status 'done'\n",
      "  Created wheel for pykospacing: filename=pykospacing-0.5-py3-none-any.whl size=2255669 sha256=74599c3ca9ae5e9c894f2ca2ae37811e98ab4fcd6c441ced19a4ef43a6243aba\n",
      "  Stored in directory: C:\\Users\\Public\\Documents\\ESTsoft\\CreatorTemp\\pip-ephem-wheel-cache-n_0yf03a\\wheels\\9b\\93\\81\\a2a7dc8c66ede5bf30634d20635f32b95eac7ca2ea8844058b\n",
      "Successfully built pykospacing\n"
     ]
    },
    {
     "name": "stdout",
     "output_type": "stream",
     "text": [
      "Requirement already satisfied: soynlp in c:\\users\\jieun\\appdata\\local\\programs\\python\\python37\\lib\\site-packages (0.0.493)\n",
      "Requirement already satisfied: numpy>=1.12.1 in c:\\users\\jieun\\appdata\\local\\programs\\python\\python37\\lib\\site-packages (from soynlp) (1.19.4)\n",
      "Requirement already satisfied: scikit-learn>=0.20.0 in c:\\users\\jieun\\appdata\\local\\programs\\python\\python37\\lib\\site-packages (from soynlp) (0.24.2)\n",
      "Requirement already satisfied: scipy>=1.1.0 in c:\\users\\jieun\\appdata\\local\\programs\\python\\python37\\lib\\site-packages (from soynlp) (1.7.0)\n",
      "Requirement already satisfied: psutil>=5.0.1 in c:\\users\\jieun\\appdata\\local\\programs\\python\\python37\\lib\\site-packages (from soynlp) (5.8.0)\n",
      "Requirement already satisfied: joblib>=0.11 in c:\\users\\jieun\\appdata\\local\\programs\\python\\python37\\lib\\site-packages (from scikit-learn>=0.20.0->soynlp) (1.0.1)\n",
      "Requirement already satisfied: threadpoolctl>=2.0.0 in c:\\users\\jieun\\appdata\\local\\programs\\python\\python37\\lib\\site-packages (from scikit-learn>=0.20.0->soynlp) (2.1.0)\n"
     ]
    },
    {
     "name": "stderr",
     "output_type": "stream",
     "text": [
      "WARNING: You are using pip version 20.1.1; however, version 21.1.3 is available.\n",
      "You should consider upgrading via the 'c:\\users\\jieun\\appdata\\local\\programs\\python\\python37\\python.exe -m pip install --upgrade pip' command.\n"
     ]
    },
    {
     "name": "stdout",
     "output_type": "stream",
     "text": [
      "Requirement already satisfied: konlpy in c:\\users\\jieun\\appdata\\local\\programs\\python\\python37\\lib\\site-packages (0.5.2)"
     ]
    },
    {
     "name": "stderr",
     "output_type": "stream",
     "text": [
      "WARNING: You are using pip version 20.1.1; however, version 21.1.3 is available.\n",
      "You should consider upgrading via the 'c:\\users\\jieun\\appdata\\local\\programs\\python\\python37\\python.exe -m pip install --upgrade pip' command.\n"
     ]
    },
    {
     "name": "stdout",
     "output_type": "stream",
     "text": [
      "\n",
      "Requirement already satisfied: tweepy>=3.7.0 in c:\\users\\jieun\\appdata\\local\\programs\\python\\python37\\lib\\site-packages (from konlpy) (3.10.0)\n",
      "Requirement already satisfied: JPype1>=0.7.0 in c:\\users\\jieun\\appdata\\local\\programs\\python\\python37\\lib\\site-packages (from konlpy) (1.1.2)\n",
      "Requirement already satisfied: colorama in c:\\users\\jieun\\appdata\\local\\programs\\python\\python37\\lib\\site-packages (from konlpy) (0.4.4)\n",
      "Requirement already satisfied: beautifulsoup4==4.6.0 in c:\\users\\jieun\\appdata\\local\\programs\\python\\python37\\lib\\site-packages (from konlpy) (4.6.0)\n",
      "Requirement already satisfied: numpy>=1.6 in c:\\users\\jieun\\appdata\\local\\programs\\python\\python37\\lib\\site-packages (from konlpy) (1.19.4)\n",
      "Requirement already satisfied: lxml>=4.1.0 in c:\\users\\jieun\\appdata\\local\\programs\\python\\python37\\lib\\site-packages (from konlpy) (4.6.3)\n",
      "Requirement already satisfied: six>=1.10.0 in c:\\users\\jieun\\appdata\\local\\programs\\python\\python37\\lib\\site-packages (from tweepy>=3.7.0->konlpy) (1.15.0)\n",
      "Requirement already satisfied: requests[socks]>=2.11.1 in c:\\users\\jieun\\appdata\\local\\programs\\python\\python37\\lib\\site-packages (from tweepy>=3.7.0->konlpy) (2.25.0)\n",
      "Requirement already satisfied: requests-oauthlib>=0.7.0 in c:\\users\\jieun\\appdata\\local\\programs\\python\\python37\\lib\\site-packages (from tweepy>=3.7.0->konlpy) (1.3.0)\n",
      "Requirement already satisfied: typing-extensions; python_version < \"3.8\" in c:\\users\\jieun\\appdata\\local\\programs\\python\\python37\\lib\\site-packages (from JPype1>=0.7.0->konlpy) (3.7.4.3)\n",
      "Requirement already satisfied: urllib3<1.27,>=1.21.1 in c:\\users\\jieun\\appdata\\local\\programs\\python\\python37\\lib\\site-packages (from requests[socks]>=2.11.1->tweepy>=3.7.0->konlpy) (1.26.2)\n",
      "Requirement already satisfied: chardet<4,>=3.0.2 in c:\\users\\jieun\\appdata\\local\\programs\\python\\python37\\lib\\site-packages (from requests[socks]>=2.11.1->tweepy>=3.7.0->konlpy) (3.0.4)\n",
      "Requirement already satisfied: certifi>=2017.4.17 in c:\\users\\jieun\\appdata\\local\\programs\\python\\python37\\lib\\site-packages (from requests[socks]>=2.11.1->tweepy>=3.7.0->konlpy) (2020.11.8)\n",
      "Requirement already satisfied: idna<3,>=2.5 in c:\\users\\jieun\\appdata\\local\\programs\\python\\python37\\lib\\site-packages (from requests[socks]>=2.11.1->tweepy>=3.7.0->konlpy) (2.10)\n",
      "Requirement already satisfied: PySocks!=1.5.7,>=1.5.6; extra == \"socks\" in c:\\users\\jieun\\appdata\\local\\programs\\python\\python37\\lib\\site-packages (from requests[socks]>=2.11.1->tweepy>=3.7.0->konlpy) (1.7.1)\n",
      "Requirement already satisfied: oauthlib>=3.0.0 in c:\\users\\jieun\\appdata\\local\\programs\\python\\python37\\lib\\site-packages (from requests-oauthlib>=0.7.0->tweepy>=3.7.0->konlpy) (3.1.0)\n",
      "Requirement already satisfied: JPype1==1.1.2 from file:///C:/Users/JiEun/Desktop/coco/JPype1-1.1.2-cp37-cp37m-win_amd64.whl in c:\\users\\jieun\\appdata\\local\\programs\\python\\python37\\lib\\site-packages (1.1.2)\n",
      "Requirement already satisfied: typing-extensions; python_version < \"3.8\" in c:\\users\\jieun\\appdata\\local\\programs\\python\\python37\\lib\\site-packages (from JPype1==1.1.2) (3.7.4.3)\n"
     ]
    },
    {
     "name": "stderr",
     "output_type": "stream",
     "text": [
      "WARNING: You are using pip version 20.1.1; however, version 21.1.3 is available.\n",
      "You should consider upgrading via the 'c:\\users\\jieun\\appdata\\local\\programs\\python\\python37\\python.exe -m pip install --upgrade pip' command.\n"
     ]
    }
   ],
   "source": [
    "!pip install py-hanspell\n",
    "!pip install git+https://github.com/haven-jeon/PyKoSpacing.git\n",
    "!pip install soynlp\n",
    "!pip install konlpy\n",
    "!pip install JPype1-1.1.2-cp37-cp37m-win_amd64.whl"
   ]
  },
  {
   "cell_type": "code",
   "execution_count": 16,
   "metadata": {},
   "outputs": [
    {
     "ename": "IndexError",
     "evalue": "list assignment index out of range",
     "output_type": "error",
     "traceback": [
      "\u001b[1;31m---------------------------------------------------------------------------\u001b[0m",
      "\u001b[1;31mIndexError\u001b[0m                                Traceback (most recent call last)",
      "\u001b[1;32m<ipython-input-16-1b452c067146>\u001b[0m in \u001b[0;36m<module>\u001b[1;34m\u001b[0m\n\u001b[0;32m      6\u001b[0m     \u001b[1;31m# sent = '마음씨는 두말할것도없고 목소리가 나긋나긋 너무좋으세요ㅠㅠㅠ 이쁜흥민이랑 꽃길만걸으세요 구독하고갑니당'\u001b[0m\u001b[1;33m\u001b[0m\u001b[1;33m\u001b[0m\u001b[1;33m\u001b[0m\u001b[0m\n\u001b[0;32m      7\u001b[0m     \u001b[0mspacing\u001b[0m \u001b[1;33m=\u001b[0m \u001b[0mSpacing\u001b[0m\u001b[1;33m(\u001b[0m\u001b[1;33m)\u001b[0m\u001b[1;33m\u001b[0m\u001b[1;33m\u001b[0m\u001b[0m\n\u001b[1;32m----> 8\u001b[1;33m     \u001b[0mkospacing_sent\u001b[0m\u001b[1;33m[\u001b[0m\u001b[0mi\u001b[0m\u001b[1;33m]\u001b[0m \u001b[1;33m=\u001b[0m \u001b[0mspacing\u001b[0m\u001b[1;33m(\u001b[0m\u001b[0mresults\u001b[0m\u001b[1;33m[\u001b[0m\u001b[1;34m\"0\"\u001b[0m\u001b[1;33m]\u001b[0m\u001b[1;33m[\u001b[0m\u001b[0mi\u001b[0m\u001b[1;33m]\u001b[0m\u001b[1;33m)\u001b[0m\u001b[1;33m\u001b[0m\u001b[1;33m\u001b[0m\u001b[0m\n\u001b[0m\u001b[0;32m      9\u001b[0m \u001b[1;33m\u001b[0m\u001b[0m\n\u001b[0;32m     10\u001b[0m \u001b[0mprint\u001b[0m\u001b[1;33m(\u001b[0m\u001b[0mkospacing_sent\u001b[0m\u001b[1;33m)\u001b[0m\u001b[1;33m\u001b[0m\u001b[1;33m\u001b[0m\u001b[0m\n",
      "\u001b[1;31mIndexError\u001b[0m: list assignment index out of range"
     ]
    }
   ],
   "source": [
    "from pykospacing import Spacing\n",
    "\n",
    "kospacing_sent = []\n",
    "\n",
    "for i in results.index:\n",
    "    # sent = '마음씨는 두말할것도없고 목소리가 나긋나긋 너무좋으세요ㅠㅠㅠ 이쁜흥민이랑 꽃길만걸으세요 구독하고갑니당'\n",
    "    spacing = Spacing()\n",
    "    kospacing_sent[i] = spacing(results[\"0\"][i])\n",
    "\n",
    "print(kospacing_sent)"
   ]
  },
  {
   "cell_type": "code",
   "execution_count": 10,
   "metadata": {},
   "outputs": [
    {
     "name": "stdout",
     "output_type": "stream",
     "text": [
      "마음씨는 두말할 것도 없고 목소리가 나긋나긋 너무 좋으세요 ㅠㅠㅠ 이쁜 흥민이랑 꽃길만 걸으세요 구독하고 갑니당\n"
     ]
    }
   ],
   "source": [
    "from soynlp.normalizer import *\n",
    "print(repeat_normalize(kospacing_sent, num_repeats=2))"
   ]
  },
  {
   "cell_type": "code",
   "execution_count": null,
   "metadata": {},
   "outputs": [],
   "source": [
    "from konlpy.tag import Okt # twitter -> Okt\n",
    "okt = Okt()\n",
    "print(okt.morphs(kospacing_sent))"
   ]
  }
 ],
 "metadata": {
  "kernelspec": {
   "display_name": "Python 3",
   "language": "python",
   "name": "python3"
  },
  "language_info": {
   "codemirror_mode": {
    "name": "ipython",
    "version": 3
   },
   "file_extension": ".py",
   "mimetype": "text/x-python",
   "name": "python",
   "nbconvert_exporter": "python",
   "pygments_lexer": "ipython3",
   "version": "3.7.9"
  }
 },
 "nbformat": 4,
 "nbformat_minor": 4
}
