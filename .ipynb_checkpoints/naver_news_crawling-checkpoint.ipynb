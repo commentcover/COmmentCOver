{
 "cells": [
  {
   "cell_type": "code",
   "execution_count": null,
   "metadata": {},
   "outputs": [],
   "source": [
    "from bs4 import BeautifulSoup \n",
    "from urllib.request import urlopen\n",
    "from selenium import webdriver\n",
    "from pandas import Series, DataFrame\n",
    "import numpy as np\n",
    "import pandas as pd\n",
    "import re\n",
    "import time\n",
    "\n",
    "\"\"\"\n",
    "네이버 뉴스 크롤링 코드입니다.\n",
    "https://entertain.naver.com/ranking\n",
    "페이지를 기준으로 크롤링 하였습니다.\n",
    "\"\"\"\n",
    "\n",
    "\n",
    "def naver_crwalling(url):\n",
    "    #리스트 선언\n",
    "    crawl_title = []\n",
    "    crawl_comments = []\n",
    "    #크롬 open\n",
    "    driver_path = \"driver/chromedriver.exe\"\n",
    "    driver = webdriver.Chrome(executable_path=driver_path)\n",
    "    for x in range(1,31):\n",
    "        #네이버 연예뉴스 메인 페이지(댓글많은순)\n",
    "        url_page = url\n",
    "        driver.get(url_page)\n",
    "        time.sleep(0.3)\n",
    "        #1~30 링크 클릭\n",
    "        driver.find_element_by_css_selector('#ranking_list > li:nth-child({0}) > div.tit_area > a.tit'.format(x)).click()\n",
    "        time.sleep(7)\n",
    "        #댓글창 클릭\n",
    "        driver.find_element_by_css_selector('#cbox_module > div > div.u_cbox_view_comment > a > span.u_cbox_in_view_comment').click()\n",
    "        time.sleep(0.3)\n",
    "        #댓글 끝까지 로드\n",
    "        while(1):\n",
    "            time.sleep(0.3)\n",
    "            try:\n",
    "                driver.find_element_by_css_selector('#cbox_module > div > div.u_cbox_paginate > a > span > span > span.u_cbox_page_more').click()\n",
    "            except:\n",
    "                break\n",
    "        #페이지 추출 및 리스트에 추가\n",
    "        html = driver.page_source\n",
    "        soup = BeautifulSoup(html, \"lxml\")\n",
    "        title = soup.find('p','end_tit').get_text()\n",
    "        temp = soup.find_all('span','u_cbox_contents')\n",
    "        print(len(temp))\n",
    "        for i in range(len(temp)):\n",
    "            crawl_title.append(title)\n",
    "            crawl_comments.append(temp[i].get_text())\n",
    "            \n",
    "    print('----한페이지 끝!-----')\n",
    "    naver_crawl = pd.DataFrame({'Title': crawl_title, 'Comments': crawl_comments})\n",
    "    return naver_crawl"
   ]
  }
 ],
 "metadata": {
  "kernelspec": {
   "display_name": "Python 3",
   "language": "python",
   "name": "python3"
  },
  "language_info": {
   "codemirror_mode": {
    "name": "ipython",
    "version": 3
   },
   "file_extension": ".py",
   "mimetype": "text/x-python",
   "name": "python",
   "nbconvert_exporter": "python",
   "pygments_lexer": "ipython3",
   "version": "3.7.9"
  }
 },
 "nbformat": 4,
 "nbformat_minor": 4
}
