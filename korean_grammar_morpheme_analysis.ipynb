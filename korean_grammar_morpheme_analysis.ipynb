{
 "cells": [
  {
   "cell_type": "code",
   "execution_count": 1,
   "metadata": {
    "scrolled": true
   },
   "outputs": [
    {
     "name": "stdout",
     "output_type": "stream",
     "text": [
      "Collecting py-hanspell\n",
      "  Using cached py-hanspell-1.1.tar.gz (3.0 kB)\n",
      "Note: you may need to restart the kernel to use updated packages.\n"
     ]
    },
    {
     "name": "stderr",
     "output_type": "stream",
     "text": [
      "    ERROR: Command errored out with exit status 1:\n",
      "     command: 'c:\\users\\jieun\\appdata\\local\\programs\\python\\python37\\python.exe' -c 'import sys, setuptools, tokenize; sys.argv[0] = '\"'\"'C:\\\\Users\\\\Public\\\\Documents\\\\ESTsoft\\\\CreatorTemp\\\\pip-install-spv5gsnf\\\\py-hanspell\\\\setup.py'\"'\"'; __file__='\"'\"'C:\\\\Users\\\\Public\\\\Documents\\\\ESTsoft\\\\CreatorTemp\\\\pip-install-spv5gsnf\\\\py-hanspell\\\\setup.py'\"'\"';f=getattr(tokenize, '\"'\"'open'\"'\"', open)(__file__);code=f.read().replace('\"'\"'\\r\\n'\"'\"', '\"'\"'\\n'\"'\"');f.close();exec(compile(code, __file__, '\"'\"'exec'\"'\"'))' egg_info --egg-base 'C:\\Users\\Public\\Documents\\ESTsoft\\CreatorTemp\\pip-pip-egg-info-1y2lxl5x'\n",
      "         cwd: C:\\Users\\Public\\Documents\\ESTsoft\\CreatorTemp\\pip-install-spv5gsnf\\py-hanspell\\\n",
      "    Complete output (5 lines):\n",
      "    Traceback (most recent call last):\n",
      "      File \"<string>\", line 1, in <module>\n",
      "      File \"C:\\Users\\Public\\Documents\\ESTsoft\\CreatorTemp\\pip-install-spv5gsnf\\py-hanspell\\setup.py\", line 2, in <module>\n",
      "        from pip.req import parse_requirements\n",
      "    ModuleNotFoundError: No module named 'pip.req'\n",
      "    ----------------------------------------\n",
      "ERROR: Command errored out with exit status 1: python setup.py egg_info Check the logs for full command output.\n",
      "WARNING: You are using pip version 20.1.1; however, version 21.1.3 is available.\n",
      "You should consider upgrading via the 'c:\\users\\jieun\\appdata\\local\\programs\\python\\python37\\python.exe -m pip install --upgrade pip' command.\n"
     ]
    }
   ],
   "source": [
    "pip install py-hanspell"
   ]
  },
  {
   "cell_type": "code",
   "execution_count": 7,
   "metadata": {},
   "outputs": [
    {
     "name": "stdout",
     "output_type": "stream",
     "text": [
      "Collecting git+https://github.com/haven-jeon/PyKoSpacing.git\n",
      "  Cloning https://github.com/haven-jeon/PyKoSpacing.git to c:\\users\\public\\documents\\estsoft\\creatortemp\\pip-req-build-jeo0euuv\n",
      "Requirement already satisfied (use --upgrade to upgrade): pykospacing==0.5 from git+https://github.com/haven-jeon/PyKoSpacing.git in c:\\users\\jieun\\appdata\\local\\programs\\python\\python37\\lib\\site-packages\n",
      "Requirement already satisfied: tensorflow==2.5.0 in c:\\users\\jieun\\appdata\\local\\programs\\python\\python37\\lib\\site-packages (from pykospacing==0.5) (2.5.0)\n",
      "Requirement already satisfied: h5py==3.1.0 in c:\\users\\jieun\\appdata\\local\\programs\\python\\python37\\lib\\site-packages (from pykospacing==0.5) (3.1.0)\n",
      "Requirement already satisfied: argparse>=1.4.0 in c:\\users\\jieun\\appdata\\local\\programs\\python\\python37\\lib\\site-packages (from pykospacing==0.5) (1.4.0)\n",
      "Requirement already satisfied: flatbuffers~=1.12.0 in c:\\users\\jieun\\appdata\\local\\programs\\python\\python37\\lib\\site-packages (from tensorflow==2.5.0->pykospacing==0.5) (1.12)\n",
      "Requirement already satisfied: grpcio~=1.34.0 in c:\\users\\jieun\\appdata\\local\\programs\\python\\python37\\lib\\site-packages (from tensorflow==2.5.0->pykospacing==0.5) (1.34.1)\n",
      "Requirement already satisfied: tensorboard~=2.5 in c:\\users\\jieun\\appdata\\local\\programs\\python\\python37\\lib\\site-packages (from tensorflow==2.5.0->pykospacing==0.5) (2.5.0)\n",
      "Requirement already satisfied: google-pasta~=0.2 in c:\\users\\jieun\\appdata\\local\\programs\\python\\python37\\lib\\site-packages (from tensorflow==2.5.0->pykospacing==0.5) (0.2.0)\n",
      "Requirement already satisfied: absl-py~=0.10 in c:\\users\\jieun\\appdata\\local\\programs\\python\\python37\\lib\\site-packages (from tensorflow==2.5.0->pykospacing==0.5) (0.13.0)\n",
      "Requirement already satisfied: protobuf>=3.9.2 in c:\\users\\jieun\\appdata\\local\\programs\\python\\python37\\lib\\site-packages (from tensorflow==2.5.0->pykospacing==0.5) (3.17.3)\n",
      "Requirement already satisfied: termcolor~=1.1.0 in c:\\users\\jieun\\appdata\\local\\programs\\python\\python37\\lib\\site-packages (from tensorflow==2.5.0->pykospacing==0.5) (1.1.0)\n",
      "Requirement already satisfied: six~=1.15.0 in c:\\users\\jieun\\appdata\\local\\programs\\python\\python37\\lib\\site-packages (from tensorflow==2.5.0->pykospacing==0.5) (1.15.0)\n",
      "Requirement already satisfied: opt-einsum~=3.3.0 in c:\\users\\jieun\\appdata\\local\\programs\\python\\python37\\lib\\site-packages (from tensorflow==2.5.0->pykospacing==0.5) (3.3.0)\n",
      "Requirement already satisfied: keras-nightly~=2.5.0.dev in c:\\users\\jieun\\appdata\\local\\programs\\python\\python37\\lib\\site-packages (from tensorflow==2.5.0->pykospacing==0.5) (2.5.0.dev2021032900)\n",
      "Requirement already satisfied: typing-extensions~=3.7.4 in c:\\users\\jieun\\appdata\\local\\programs\\python\\python37\\lib\\site-packages (from tensorflow==2.5.0->pykospacing==0.5) (3.7.4.3)\n",
      "Requirement already satisfied: wrapt~=1.12.1 in c:\\users\\jieun\\appdata\\local\\programs\\python\\python37\\lib\\site-packages (from tensorflow==2.5.0->pykospacing==0.5) (1.12.1)\n",
      "Requirement already satisfied: wheel~=0.35 in c:\\users\\jieun\\appdata\\local\\programs\\python\\python37\\lib\\site-packages (from tensorflow==2.5.0->pykospacing==0.5) (0.36.2)\n",
      "Requirement already satisfied: keras-preprocessing~=1.1.2 in c:\\users\\jieun\\appdata\\local\\programs\\python\\python37\\lib\\site-packages (from tensorflow==2.5.0->pykospacing==0.5) (1.1.2)\n",
      "Requirement already satisfied: astunparse~=1.6.3 in c:\\users\\jieun\\appdata\\local\\programs\\python\\python37\\lib\\site-packages (from tensorflow==2.5.0->pykospacing==0.5) (1.6.3)\n",
      "Requirement already satisfied: numpy~=1.19.2 in c:\\users\\jieun\\appdata\\local\\programs\\python\\python37\\lib\\site-packages (from tensorflow==2.5.0->pykospacing==0.5) (1.19.4)\n",
      "Requirement already satisfied: gast==0.4.0 in c:\\users\\jieun\\appdata\\local\\programs\\python\\python37\\lib\\site-packages (from tensorflow==2.5.0->pykospacing==0.5) (0.4.0)\n",
      "Requirement already satisfied: tensorflow-estimator<2.6.0,>=2.5.0rc0 in c:\\users\\jieun\\appdata\\local\\programs\\python\\python37\\lib\\site-packages (from tensorflow==2.5.0->pykospacing==0.5) (2.5.0)\n",
      "Requirement already satisfied: cached-property; python_version < \"3.8\" in c:\\users\\jieun\\appdata\\local\\programs\\python\\python37\\lib\\site-packages (from h5py==3.1.0->pykospacing==0.5) (1.5.2)\n",
      "Requirement already satisfied: markdown>=2.6.8 in c:\\users\\jieun\\appdata\\local\\programs\\python\\python37\\lib\\site-packages (from tensorboard~=2.5->tensorflow==2.5.0->pykospacing==0.5) (3.3.4)\n",
      "Requirement already satisfied: requests<3,>=2.21.0 in c:\\users\\jieun\\appdata\\local\\programs\\python\\python37\\lib\\site-packages (from tensorboard~=2.5->tensorflow==2.5.0->pykospacing==0.5) (2.25.0)\n",
      "Requirement already satisfied: werkzeug>=0.11.15 in c:\\users\\jieun\\appdata\\local\\programs\\python\\python37\\lib\\site-packages (from tensorboard~=2.5->tensorflow==2.5.0->pykospacing==0.5) (2.0.1)\n",
      "Requirement already satisfied: tensorboard-data-server<0.7.0,>=0.6.0 in c:\\users\\jieun\\appdata\\local\\programs\\python\\python37\\lib\\site-packages (from tensorboard~=2.5->tensorflow==2.5.0->pykospacing==0.5) (0.6.1)\n",
      "Requirement already satisfied: tensorboard-plugin-wit>=1.6.0 in c:\\users\\jieun\\appdata\\local\\programs\\python\\python37\\lib\\site-packages (from tensorboard~=2.5->tensorflow==2.5.0->pykospacing==0.5) (1.8.0)\n",
      "Requirement already satisfied: google-auth-oauthlib<0.5,>=0.4.1 in c:\\users\\jieun\\appdata\\local\\programs\\python\\python37\\lib\\site-packages (from tensorboard~=2.5->tensorflow==2.5.0->pykospacing==0.5) (0.4.4)\n",
      "Requirement already satisfied: setuptools>=41.0.0 in c:\\users\\jieun\\appdata\\local\\programs\\python\\python37\\lib\\site-packages (from tensorboard~=2.5->tensorflow==2.5.0->pykospacing==0.5) (47.1.0)\n",
      "Requirement already satisfied: google-auth<2,>=1.6.3 in c:\\users\\jieun\\appdata\\local\\programs\\python\\python37\\lib\\site-packages (from tensorboard~=2.5->tensorflow==2.5.0->pykospacing==0.5) (1.32.1)\n",
      "Requirement already satisfied: importlib-metadata; python_version < \"3.8\" in c:\\users\\jieun\\appdata\\local\\programs\\python\\python37\\lib\\site-packages (from markdown>=2.6.8->tensorboard~=2.5->tensorflow==2.5.0->pykospacing==0.5) (2.0.0)\n",
      "Requirement already satisfied: chardet<4,>=3.0.2 in c:\\users\\jieun\\appdata\\local\\programs\\python\\python37\\lib\\site-packages (from requests<3,>=2.21.0->tensorboard~=2.5->tensorflow==2.5.0->pykospacing==0.5) (3.0.4)\n",
      "Requirement already satisfied: urllib3<1.27,>=1.21.1 in c:\\users\\jieun\\appdata\\local\\programs\\python\\python37\\lib\\site-packages (from requests<3,>=2.21.0->tensorboard~=2.5->tensorflow==2.5.0->pykospacing==0.5) (1.26.2)\n",
      "Requirement already satisfied: certifi>=2017.4.17 in c:\\users\\jieun\\appdata\\local\\programs\\python\\python37\\lib\\site-packages (from requests<3,>=2.21.0->tensorboard~=2.5->tensorflow==2.5.0->pykospacing==0.5) (2020.11.8)\n",
      "Requirement already satisfied: idna<3,>=2.5 in c:\\users\\jieun\\appdata\\local\\programs\\python\\python37\\lib\\site-packages (from requests<3,>=2.21.0->tensorboard~=2.5->tensorflow==2.5.0->pykospacing==0.5) (2.10)\n",
      "Requirement already satisfied: requests-oauthlib>=0.7.0 in c:\\users\\jieun\\appdata\\local\\programs\\python\\python37\\lib\\site-packages (from google-auth-oauthlib<0.5,>=0.4.1->tensorboard~=2.5->tensorflow==2.5.0->pykospacing==0.5) (1.3.0)\n",
      "Requirement already satisfied: cachetools<5.0,>=2.0.0 in c:\\users\\jieun\\appdata\\local\\programs\\python\\python37\\lib\\site-packages (from google-auth<2,>=1.6.3->tensorboard~=2.5->tensorflow==2.5.0->pykospacing==0.5) (4.2.2)\n",
      "Requirement already satisfied: rsa<5,>=3.1.4; python_version >= \"3.6\" in c:\\users\\jieun\\appdata\\local\\programs\\python\\python37\\lib\\site-packages (from google-auth<2,>=1.6.3->tensorboard~=2.5->tensorflow==2.5.0->pykospacing==0.5) (4.7.2)\n",
      "Requirement already satisfied: pyasn1-modules>=0.2.1 in c:\\users\\jieun\\appdata\\local\\programs\\python\\python37\\lib\\site-packages (from google-auth<2,>=1.6.3->tensorboard~=2.5->tensorflow==2.5.0->pykospacing==0.5) (0.2.8)\n",
      "Requirement already satisfied: zipp>=0.5 in c:\\users\\jieun\\appdata\\local\\programs\\python\\python37\\lib\\site-packages (from importlib-metadata; python_version < \"3.8\"->markdown>=2.6.8->tensorboard~=2.5->tensorflow==2.5.0->pykospacing==0.5) (3.4.0)\n",
      "Requirement already satisfied: oauthlib>=3.0.0 in c:\\users\\jieun\\appdata\\local\\programs\\python\\python37\\lib\\site-packages (from requests-oauthlib>=0.7.0->google-auth-oauthlib<0.5,>=0.4.1->tensorboard~=2.5->tensorflow==2.5.0->pykospacing==0.5) (3.1.0)\n",
      "Requirement already satisfied: pyasn1>=0.1.3 in c:\\users\\jieun\\appdata\\local\\programs\\python\\python37\\lib\\site-packages (from rsa<5,>=3.1.4; python_version >= \"3.6\"->google-auth<2,>=1.6.3->tensorboard~=2.5->tensorflow==2.5.0->pykospacing==0.5) (0.4.8)\n",
      "Building wheels for collected packages: pykospacing\n",
      "  Building wheel for pykospacing (setup.py): started\n",
      "  Building wheel for pykospacing (setup.py): finished with status 'done'\n",
      "  Created wheel for pykospacing: filename=pykospacing-0.5-py3-none-any.whl size=2255669 sha256=57eb869f9dfb988c71a10b9131dd790a5e44733254923a0932900214873ab7b0\n",
      "  Stored in directory: C:\\Users\\Public\\Documents\\ESTsoft\\CreatorTemp\\pip-ephem-wheel-cache-3jhy82b3\\wheels\\9b\\93\\81\\a2a7dc8c66ede5bf30634d20635f32b95eac7ca2ea8844058b\n",
      "Successfully built pykospacing\n"
     ]
    },
    {
     "name": "stderr",
     "output_type": "stream",
     "text": [
      "  Running command git clone -q https://github.com/haven-jeon/PyKoSpacing.git 'C:\\Users\\Public\\Documents\\ESTsoft\\CreatorTemp\\pip-req-build-jeo0euuv'\n",
      "WARNING: You are using pip version 20.1.1; however, version 21.1.3 is available.\n",
      "You should consider upgrading via the 'c:\\users\\jieun\\appdata\\local\\programs\\python\\python37\\python.exe -m pip install --upgrade pip' command.\n"
     ]
    }
   ],
   "source": [
    "!pip install git+https://github.com/haven-jeon/PyKoSpacing.git"
   ]
  },
  {
   "cell_type": "code",
   "execution_count": 26,
   "metadata": {},
   "outputs": [
    {
     "name": "stdout",
     "output_type": "stream",
     "text": [
      "마음씨는 두말할 것도 없고 목소리가 나긋나긋 너무 좋으세요 ㅠㅠㅠ 이쁜 흥민이랑 꽃길만 걸으세요 구독하고 갑니당\n"
     ]
    }
   ],
   "source": [
    "from pykospacing import Spacing\n",
    "\n",
    "sent = '마음씨는 두말할것도없고 목소리가 나긋나긋 너무좋으세요ㅠㅠㅠ 이쁜흥민이랑 꽃길만걸으세요 구독하고갑니당'\n",
    "spacing = Spacing()\n",
    "kospacing_sent = spacing(sent)\n",
    "print(kospacing_sent)"
   ]
  },
  {
   "cell_type": "code",
   "execution_count": 19,
   "metadata": {},
   "outputs": [
    {
     "data": {
      "text/plain": [
       "{'result': True,\n",
       " 'original': '김정민 형님 정말 최고입니다',\n",
       " 'checked': '김정민 형님 정말 최고입니다',\n",
       " 'errors': 0,\n",
       " 'words': OrderedDict([('김정민', 0), ('형님', 0), ('정말', 0), ('최고입니다', 0)]),\n",
       " 'time': 0.02376413345336914}"
      ]
     },
     "execution_count": 19,
     "metadata": {},
     "output_type": "execute_result"
    }
   ],
   "source": [
    "# from hanspell import spell_checker\n",
    "# result = spell_checker.check(kospacing_sent)\n",
    "# result.as_dict()"
   ]
  },
  {
   "cell_type": "code",
   "execution_count": 21,
   "metadata": {},
   "outputs": [
    {
     "name": "stdout",
     "output_type": "stream",
     "text": [
      "Collecting soynlp"
     ]
    },
    {
     "name": "stderr",
     "output_type": "stream",
     "text": [
      "WARNING: You are using pip version 20.1.1; however, version 21.1.3 is available.\n",
      "You should consider upgrading via the 'c:\\users\\jieun\\appdata\\local\\programs\\python\\python37\\python.exe -m pip install --upgrade pip' command.\n"
     ]
    },
    {
     "name": "stdout",
     "output_type": "stream",
     "text": [
      "\n",
      "  Downloading soynlp-0.0.493-py3-none-any.whl (416 kB)\n",
      "Collecting scipy>=1.1.0\n",
      "  Downloading scipy-1.7.0-cp37-cp37m-win_amd64.whl (33.6 MB)\n",
      "Collecting scikit-learn>=0.20.0\n",
      "  Downloading scikit_learn-0.24.2-cp37-cp37m-win_amd64.whl (6.8 MB)\n",
      "Requirement already satisfied: numpy>=1.12.1 in c:\\users\\jieun\\appdata\\local\\programs\\python\\python37\\lib\\site-packages (from soynlp) (1.19.4)\n",
      "Collecting psutil>=5.0.1\n",
      "  Downloading psutil-5.8.0-cp37-cp37m-win_amd64.whl (244 kB)\n",
      "Collecting threadpoolctl>=2.0.0\n",
      "  Downloading threadpoolctl-2.1.0-py3-none-any.whl (12 kB)\n",
      "Collecting joblib>=0.11\n",
      "  Downloading joblib-1.0.1-py3-none-any.whl (303 kB)\n",
      "Installing collected packages: scipy, threadpoolctl, joblib, scikit-learn, psutil, soynlp\n",
      "Successfully installed joblib-1.0.1 psutil-5.8.0 scikit-learn-0.24.2 scipy-1.7.0 soynlp-0.0.493 threadpoolctl-2.1.0\n"
     ]
    }
   ],
   "source": [
    "!pip install soynlp"
   ]
  },
  {
   "cell_type": "code",
   "execution_count": 27,
   "metadata": {},
   "outputs": [
    {
     "name": "stdout",
     "output_type": "stream",
     "text": [
      "마음씨는 두말할 것도 없고 목소리가 나긋나긋 너무 좋으세요 ㅠㅠㅠ 이쁜 흥민이랑 꽃길만 걸으세요 구독하고 갑니당\n"
     ]
    }
   ],
   "source": [
    "from soynlp.normalizer import *\n",
    "print(repeat_normalize(kospacing_sent, num_repeats=2))"
   ]
  },
  {
   "cell_type": "code",
   "execution_count": 4,
   "metadata": {},
   "outputs": [
    {
     "name": "stdout",
     "output_type": "stream",
     "text": [
      "Requirement already satisfied: konlpy in c:\\users\\jieun\\appdata\\local\\programs\\python\\python37\\lib\\site-packages (0.5.2)\n",
      "Requirement already satisfied: JPype1>=0.7.0 in c:\\users\\jieun\\appdata\\local\\programs\\python\\python37\\lib\\site-packages (from konlpy) (1.1.2)\n",
      "Requirement already satisfied: beautifulsoup4==4.6.0 in c:\\users\\jieun\\appdata\\local\\programs\\python\\python37\\lib\\site-packages (from konlpy) (4.6.0)\n",
      "Requirement already satisfied: numpy>=1.6 in c:\\users\\jieun\\appdata\\local\\programs\\python\\python37\\lib\\site-packages (from konlpy) (1.19.4)\n",
      "Requirement already satisfied: colorama in c:\\users\\jieun\\appdata\\local\\programs\\python\\python37\\lib\\site-packages (from konlpy) (0.4.4)\n",
      "Requirement already satisfied: tweepy>=3.7.0 in c:\\users\\jieun\\appdata\\local\\programs\\python\\python37\\lib\\site-packages (from konlpy) (3.10.0)\n",
      "Requirement already satisfied: lxml>=4.1.0 in c:\\users\\jieun\\appdata\\local\\programs\\python\\python37\\lib\\site-packages (from konlpy) (4.6.3)\n",
      "Requirement already satisfied: typing-extensions; python_version < \"3.8\" in c:\\users\\jieun\\appdata\\local\\programs\\python\\python37\\lib\\site-packages (from JPype1>=0.7.0->konlpy) (3.7.4.3)\n",
      "Requirement already satisfied: requests[socks]>=2.11.1 in c:\\users\\jieun\\appdata\\local\\programs\\python\\python37\\lib\\site-packages (from tweepy>=3.7.0->konlpy) (2.25.0)\n",
      "Requirement already satisfied: six>=1.10.0 in c:\\users\\jieun\\appdata\\local\\programs\\python\\python37\\lib\\site-packages (from tweepy>=3.7.0->konlpy) (1.15.0)\n",
      "Requirement already satisfied: requests-oauthlib>=0.7.0 in c:\\users\\jieun\\appdata\\local\\programs\\python\\python37\\lib\\site-packages (from tweepy>=3.7.0->konlpy) (1.3.0)\n",
      "Requirement already satisfied: certifi>=2017.4.17 in c:\\users\\jieun\\appdata\\local\\programs\\python\\python37\\lib\\site-packages (from requests[socks]>=2.11.1->tweepy>=3.7.0->konlpy) (2020.11.8)\n"
     ]
    },
    {
     "name": "stderr",
     "output_type": "stream",
     "text": [
      "WARNING: You are using pip version 20.1.1; however, version 21.1.3 is available.\n",
      "You should consider upgrading via the 'c:\\users\\jieun\\appdata\\local\\programs\\python\\python37\\python.exe -m pip install --upgrade pip' command.\n"
     ]
    },
    {
     "name": "stdout",
     "output_type": "stream",
     "text": [
      "Requirement already satisfied: chardet<4,>=3.0.2 in c:\\users\\jieun\\appdata\\local\\programs\\python\\python37\\lib\\site-packages (from requests[socks]>=2.11.1->tweepy>=3.7.0->konlpy) (3.0.4)\n",
      "Requirement already satisfied: idna<3,>=2.5 in c:\\users\\jieun\\appdata\\local\\programs\\python\\python37\\lib\\site-packages (from requests[socks]>=2.11.1->tweepy>=3.7.0->konlpy) (2.10)\n",
      "Requirement already satisfied: urllib3<1.27,>=1.21.1 in c:\\users\\jieun\\appdata\\local\\programs\\python\\python37\\lib\\site-packages (from requests[socks]>=2.11.1->tweepy>=3.7.0->konlpy) (1.26.2)\n",
      "Requirement already satisfied: PySocks!=1.5.7,>=1.5.6; extra == \"socks\" in c:\\users\\jieun\\appdata\\local\\programs\\python\\python37\\lib\\site-packages (from requests[socks]>=2.11.1->tweepy>=3.7.0->konlpy) (1.7.1)\n",
      "Requirement already satisfied: oauthlib>=3.0.0 in c:\\users\\jieun\\appdata\\local\\programs\\python\\python37\\lib\\site-packages (from requests-oauthlib>=0.7.0->tweepy>=3.7.0->konlpy) (3.1.0)\n"
     ]
    }
   ],
   "source": [
    "!pip install konlpy"
   ]
  },
  {
   "cell_type": "code",
   "execution_count": 3,
   "metadata": {},
   "outputs": [
    {
     "name": "stdout",
     "output_type": "stream",
     "text": [
      "Processing c:\\users\\jieun\\desktop\\coco\\jpype1-1.1.2-cp37-cp37m-win_amd64.whl\n",
      "Requirement already satisfied: typing-extensions; python_version < \"3.8\" in c:\\users\\jieun\\appdata\\local\\programs\\python\\python37\\lib\\site-packages (from JPype1==1.1.2) (3.7.4.3)\n",
      "Installing collected packages: JPype1\n",
      "Successfully installed JPype1-1.1.2\n"
     ]
    },
    {
     "name": "stderr",
     "output_type": "stream",
     "text": [
      "WARNING: You are using pip version 20.1.1; however, version 21.1.3 is available.\n",
      "You should consider upgrading via the 'c:\\users\\jieun\\appdata\\local\\programs\\python\\python37\\python.exe -m pip install --upgrade pip' command.\n"
     ]
    }
   ],
   "source": [
    "!pip install JPype1-1.1.2-cp37-cp37m-win_amd64.whl"
   ]
  },
  {
   "cell_type": "code",
   "execution_count": 8,
   "metadata": {},
   "outputs": [
    {
     "name": "stdout",
     "output_type": "stream",
     "text": [
      "['마음씨', '는', '두말', '하', 'ㄹ', '것', '도', '없', '고', '목', '소리', '가', '나긋나긋', '너무', '좋', '으세요', 'ㅠㅠㅠ', '이쁘', 'ㄴ', '흥', '민', '이랑', '꽃', '길', '만', '걷', '으세요', '구독', '하', '고', '갈', 'ㅂ니다']\n"
     ]
    }
   ],
   "source": [
    "from konlpy.tag import Kkma\n",
    "kkma = Kkma()\n",
    "print(kkma.morphs(kospacing_sent))"
   ]
  },
  {
   "cell_type": "code",
   "execution_count": 11,
   "metadata": {},
   "outputs": [
    {
     "name": "stdout",
     "output_type": "stream",
     "text": [
      "['마음씨', '는', '두말', '하', 'ㄹ', '것', '도', '없', '고', '목소리', '가', '나', '긋', '나', '긋', '너무', '좋', '으시', '시', '어요', 'ㅠㅠㅠ', '이쁘', 'ㄴ', '흥', '민', '이랑', '꽃길', '만', '걸', '으시', '시', '어요', '구독', '하', '고', '갑', '니', '당']\n"
     ]
    }
   ],
   "source": [
    "from konlpy.tag import Komoran\n",
    "komoran = Komoran()\n",
    "print(komoran.morphs(kospacing_sent))"
   ]
  },
  {
   "cell_type": "code",
   "execution_count": 12,
   "metadata": {
    "scrolled": true
   },
   "outputs": [
    {
     "name": "stdout",
     "output_type": "stream",
     "text": [
      "['마음씨', '는', '두말', '하', 'ㄹ', '것', '도', '없', '고', '목소리', '가', '나긋나긋', '너무', '좋으세요', 'ㅠㅠㅠ', '이쁘', 'ㄴ', '흥민이랑', '꽃길', '만', '걸으세요', '구독', '하고', '갑니당']\n"
     ]
    }
   ],
   "source": [
    "from konlpy.tag import Hannanum\n",
    "hannanum = Hannanum()\n",
    "print(hannanum.morphs(kospacing_sent))"
   ]
  },
  {
   "cell_type": "code",
   "execution_count": 16,
   "metadata": {},
   "outputs": [
    {
     "name": "stdout",
     "output_type": "stream",
     "text": [
      "['마음씨', '는', '두', '말', '할', '것', '도', '없고', '목소리', '가', '나긋나긋', '너무', '좋으세요', 'ㅠㅠㅠ', '이쁜', '흥민', '이랑', '꽃길', '만', '걸으세요', '구독', '하고', '갑니당']\n"
     ]
    }
   ],
   "source": [
    "from konlpy.tag import Okt # twitter -> Okt\n",
    "okt = Okt()\n",
    "print(okt.morphs(kospacing_sent))"
   ]
  },
  {
   "cell_type": "code",
   "execution_count": 1,
   "metadata": {},
   "outputs": [
    {
     "name": "stdout",
     "output_type": "stream",
     "text": [
      "Python 3.7.9\n"
     ]
    }
   ],
   "source": [
    "!python --version"
   ]
  }
 ],
 "metadata": {
  "kernelspec": {
   "display_name": "Python 3",
   "language": "python",
   "name": "python3"
  },
  "language_info": {
   "codemirror_mode": {
    "name": "ipython",
    "version": 3
   },
   "file_extension": ".py",
   "mimetype": "text/x-python",
   "name": "python",
   "nbconvert_exporter": "python",
   "pygments_lexer": "ipython3",
   "version": "3.7.9"
  }
 },
 "nbformat": 4,
 "nbformat_minor": 4
}
